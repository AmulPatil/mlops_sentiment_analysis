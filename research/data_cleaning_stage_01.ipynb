{
 "cells": [
  {
   "cell_type": "code",
   "execution_count": 1,
   "metadata": {},
   "outputs": [],
   "source": [
    "import os\n",
    "os.chdir('../')"
   ]
  },
  {
   "cell_type": "code",
   "execution_count": 2,
   "metadata": {},
   "outputs": [],
   "source": [
    "from dataclasses import dataclass\n",
    "from pathlib import Path\n",
    "\n",
    "\n",
    "@dataclass(frozen=True)\n",
    "class DataIngestionConfig:\n",
    "    root_dir: Path\n",
    "    source_URL: str\n",
    "    local_data_file: Path\n",
    "    unzip_dir: Path\n",
    "\n",
    "@dataclass(frozen=True)\n",
    "class DataCleaningConfig:\n",
    "    common_dir: Path\n",
    "    data_cleaned_dir: Path\n",
    "    data_transformer: Path\n",
    "    data_non_transformer: Path\n",
    "    \n"
   ]
  },
  {
   "cell_type": "code",
   "execution_count": 3,
   "metadata": {},
   "outputs": [
    {
     "name": "stdout",
     "output_type": "stream",
     "text": [
      "/home/amul/Desktop/projects/nlp_usecases/mlops_sentiment_analysis\n"
     ]
    }
   ],
   "source": [
    "!pwd"
   ]
  },
  {
   "cell_type": "code",
   "execution_count": 4,
   "metadata": {},
   "outputs": [],
   "source": [
    "from src.sentiment_analysis.constants import *\n",
    "from src.sentiment_analysis.utils.common import read_yaml,create_directories"
   ]
  },
  {
   "cell_type": "code",
   "execution_count": 5,
   "metadata": {},
   "outputs": [],
   "source": [
    "class ConfigurationManager:\n",
    "    def __init__(\n",
    "        self,\n",
    "        config_filepath = CONFIG_FILE_PATH,\n",
    "        params_filepath = PARAMS_FILE_PATH):\n",
    "\n",
    "        self.config = read_yaml(config_filepath)\n",
    "        self.params = read_yaml(params_filepath)\n",
    "\n",
    "        create_directories([self.config.artifacts_root])\n",
    "\n",
    "\n",
    "    \n",
    "    def get_data_ingestion_config(self) -> DataIngestionConfig:\n",
    "        config = self.config.data_ingestion\n",
    "\n",
    "        create_directories([config.root_dir])\n",
    "\n",
    "        data_ingestion_config = DataIngestionConfig(\n",
    "            root_dir=config.root_dir,\n",
    "            source_URL=config.source_URL,\n",
    "            local_data_file=config.local_data_file,\n",
    "            unzip_dir=config.unzip_dir \n",
    "        )\n",
    "\n",
    "        return data_ingestion_config\n",
    "    \n",
    "    def get_data_cleaning_config(self) -> DataCleaningConfig:\n",
    "        config = self.config.data_cleaning\n",
    "        create_directories([config.data_cleaned_dir])\n",
    "        create_directories([config.data_transformer])\n",
    "        create_directories([config.data_non_transformer])\n",
    "\n",
    "        data_ingestion_config = DataCleaningConfig(\n",
    "            common_dir=config.common_dir,\n",
    "            data_cleaned_dir = config.data_cleaned_dir,\n",
    "            data_transformer = config.data_transformer,\n",
    "            data_non_transformer = config.data_non_transformer\n",
    "        )\n",
    "\n",
    "        return data_ingestion_config\n",
    "    "
   ]
  },
  {
   "cell_type": "code",
   "execution_count": 6,
   "metadata": {},
   "outputs": [],
   "source": [
    "from src.sentiment_analysis import logger\n",
    "from src.sentiment_analysis.utils.common import get_size"
   ]
  },
  {
   "cell_type": "code",
   "execution_count": 8,
   "metadata": {},
   "outputs": [],
   "source": [
    "from src.sentiment_analysis.components.data_ingestion import DataIngestion\n"
   ]
  },
  {
   "cell_type": "code",
   "execution_count": null,
   "metadata": {},
   "outputs": [],
   "source": [
    "try:\n",
    "    config = ConfigurationManager()\n",
    "    data_ingestion_config = config.get_data_ingestion_config()\n",
    "    data_ingestion = DataIngestion(config=data_ingestion_config)\n",
    "    # data_ingestion.download_file()\n",
    "    data_ingestion.extract_zip_file()\n",
    "except Exception as e:\n",
    "    raise e"
   ]
  },
  {
   "cell_type": "code",
   "execution_count": 7,
   "metadata": {},
   "outputs": [],
   "source": [
    "from src.sentiment_analysis.config.configuration import ConfigurationManager\n",
    "from src.sentiment_analysis.components.data_cleaning import DataCleaning\n",
    "from src.sentiment_analysis import logger"
   ]
  },
  {
   "cell_type": "code",
   "execution_count": 8,
   "metadata": {},
   "outputs": [
    {
     "name": "stdout",
     "output_type": "stream",
     "text": [
      "[2024-02-25 08:21:27,619: INFO: common: yaml file: config/config.yaml loaded successfully]\n",
      "[2024-02-25 08:21:27,620: INFO: common: yaml file: params.yaml loaded successfully]\n",
      "[2024-02-25 08:21:27,621: INFO: common: created directory at: artifacts]\n",
      "[2024-02-25 08:21:27,621: INFO: common: created directory at: artifacts/data_cleaning]\n",
      "[2024-02-25 08:21:27,621: INFO: common: created directory at: artifacts/data_cleaning/transformer]\n",
      "[2024-02-25 08:21:27,622: INFO: common: created directory at: artifacts/data_cleaning/basic_ml]\n",
      "[2024-02-25 08:22:14,766: INFO: data_cleaning: supervised_dataset_created :artifacts/data_cleaning/basic_ml/test.csv]\n",
      "[2024-02-25 08:23:00,823: INFO: data_cleaning: supervised_dataset_created :artifacts/data_cleaning/basic_ml/train.csv]\n"
     ]
    }
   ],
   "source": [
    "config = ConfigurationManager()\n",
    "data_cleaning_config = config.get_data_cleaning_config()\n",
    "data_cleaning = DataCleaning(config=data_cleaning_config)\n",
    "data_cleaning.data_preprocessing_first_stage()\n"
   ]
  },
  {
   "cell_type": "code",
   "execution_count": null,
   "metadata": {},
   "outputs": [],
   "source": []
  }
 ],
 "metadata": {
  "kernelspec": {
   "display_name": "ollama",
   "language": "python",
   "name": "python3"
  },
  "language_info": {
   "codemirror_mode": {
    "name": "ipython",
    "version": 3
   },
   "file_extension": ".py",
   "mimetype": "text/x-python",
   "name": "python",
   "nbconvert_exporter": "python",
   "pygments_lexer": "ipython3",
   "version": "3.11.7"
  }
 },
 "nbformat": 4,
 "nbformat_minor": 2
}
