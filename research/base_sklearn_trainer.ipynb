{
 "cells": [
  {
   "cell_type": "code",
   "execution_count": 1,
   "metadata": {},
   "outputs": [],
   "source": [
    "import os\n",
    "os.chdir('../')\n",
    "from src.sentiment_analysis.config.configuration import ConfigurationManager\n",
    "from src.sentiment_analysis.components.data_cleaning import DataCleaning\n",
    "from src.sentiment_analysis import logger"
   ]
  },
  {
   "cell_type": "code",
   "execution_count": 2,
   "metadata": {},
   "outputs": [],
   "source": [
    "from dataclasses import dataclass\n",
    "from pathlib import Path\n",
    "\n",
    "\n",
    "@dataclass(frozen=True)\n",
    "class TrainingConfig:\n",
    "    root_dir: Path\n",
    "    trained_model_path: Path\n",
    "    updated_base_model_path: Path\n",
    "    training_data: Path\n",
    "    params_c: int\n",
    "\n",
    "@dataclass(frozen=True)\n",
    "class PrepareBaseModelConfig:\n",
    "    root_dir: Path\n",
    "    trained_model_path: Path\n",
    "    updated_base_model_path: Path\n",
    "    training_data: Path\n",
    "    params_c: int"
   ]
  },
  {
   "cell_type": "markdown",
   "metadata": {},
   "source": []
  },
  {
   "cell_type": "code",
   "execution_count": 3,
   "metadata": {},
   "outputs": [],
   "source": [
    "from src.sentiment_analysis.constants import *\n",
    "from src.sentiment_analysis.utils.common import read_yaml, create_directories"
   ]
  },
  {
   "cell_type": "code",
   "execution_count": 7,
   "metadata": {},
   "outputs": [],
   "source": [
    "class ConfigurationManager:\n",
    "    def __init__(\n",
    "        self,\n",
    "        config_filepath = CONFIG_FILE_PATH,\n",
    "        params_filepath = PARAMS_FILE_PATH):\n",
    "\n",
    "        self.config = read_yaml(config_filepath)\n",
    "        self.params = read_yaml(params_filepath)\n",
    "        \n",
    "        create_directories([self.config.artifacts_root])\n",
    "\n",
    "        \n",
    "\n",
    "    def get_training_config(self) -> TrainingConfig:\n",
    "        training = self.config.data_cleaning\n",
    "        prepare_base_model = self.config.prepare_base_model\n",
    "        params = self.params\n",
    "        training_data = self.config.data_non_transformer\n",
    "        create_directories([\n",
    "            Path(training.root_dir)\n",
    "        ])\n",
    "     \n",
    "        training_config = TrainingConfig(\n",
    "            root_dir=Path(training.root_dir),\n",
    "            trained_model_path=Path(training.trained_model_path),\n",
    "            updated_base_model_path=Path(prepare_base_model.updated_base_model_path),\n",
    "            training_data=Path(training_data),\n",
    "            params_c=params.C,\n",
    "            \n",
    "        )\n",
    "\n",
    "        return training_config\n",
    "    \n",
    "    def get_prepare_base_model_config(self) -> PrepareBaseModelConfig:\n",
    "        config = self.config.prepare_base_model\n",
    "        training_data = self.config.data_cleaning.data_non_transformer\n",
    "        print(config)\n",
    "        create_directories([config.root_dir])\n",
    "\n",
    "        prepare_base_model_config = PrepareBaseModelConfig(\n",
    "            root_dir=Path(config.root_dir),\n",
    "            trained_model_path=config.base_model_path,\n",
    "            updated_base_model_path=config.updated_base_model_path,\n",
    "            training_data=training_data,\n",
    "            params_c=self.params.C,\n",
    "        )\n",
    "\n",
    "        return prepare_base_model_config"
   ]
  },
  {
   "cell_type": "code",
   "execution_count": 8,
   "metadata": {},
   "outputs": [
    {
     "name": "stdout",
     "output_type": "stream",
     "text": [
      "[2024-02-25 12:55:45,727: INFO: common: yaml file: config/config.yaml loaded successfully]\n",
      "[2024-02-25 12:55:45,728: INFO: common: yaml file: params.yaml loaded successfully]\n",
      "[2024-02-25 12:55:45,728: INFO: common: created directory at: artifacts]\n",
      "{'root_dir': 'artifacts/prepare_base_model', 'base_model_path': 'artifacts/prepare_base_model/base_model.pkl', 'updated_base_model_path': 'artifacts/prepare_base_model/base_model_updated.pkl'}\n",
      "[2024-02-25 12:55:45,728: INFO: common: created directory at: artifacts/prepare_base_model]\n"
     ]
    },
    {
     "data": {
      "text/plain": [
       "PrepareBaseModelConfig(root_dir=PosixPath('artifacts/prepare_base_model'), trained_model_path='artifacts/prepare_base_model/base_model.pkl', updated_base_model_path='artifacts/prepare_base_model/base_model_updated.pkl', training_data='artifacts/data_cleaning/basic_ml', params_c=0.05)"
      ]
     },
     "execution_count": 8,
     "metadata": {},
     "output_type": "execute_result"
    }
   ],
   "source": [
    "config = ConfigurationManager()\n",
    "config.get_prepare_base_model_config()"
   ]
  },
  {
   "cell_type": "code",
   "execution_count": 12,
   "metadata": {},
   "outputs": [],
   "source": [
    "import os\n",
    "import urllib.request as request\n",
    "# from zipfile import ZipFile\n",
    "from sklearn.svm import LinearSVC\n",
    "from sklearn.feature_extraction.text import CountVectorizer\n",
    "\n",
    "import joblib\n",
    "from sklearn.base import BaseEstimator\n",
    "from sklearn.pipeline import Pipeline\n",
    "from pathlib import Path\n",
    "from src.sentiment_analysis.entity.config_entity import PrepareBaseModelConfig\n",
    "                                                \n",
    "\n",
    "\n",
    "\n",
    "\n",
    "class PrepareBaseModel:\n",
    "    def __init__(self, config: PrepareBaseModelConfig):\n",
    "        self.config = config\n",
    "\n",
    "    \n",
    "    def get_base_model(self):\n",
    "        self.model  = Pipeline([\n",
    "            ('vectorizer', CountVectorizer(binary=True)),\n",
    "            ('classifier', LinearSVC(random_state=10, C=self.config.params_c))\n",
    "        ])\n",
    "        # self.model = LinearSVC(random_state=10,C=self.config.params)\n",
    "\n",
    "        self.save_model(path=self.config.trained_model_path, model=self.model)\n",
    "\n",
    "    @staticmethod\n",
    "    def save_model(path: Path, model: BaseEstimator):\n",
    "        joblib.dump(model, path)\n",
    "        # model.save(path)\n",
    "        # model = joblib.load(f'{path}/base_model.pkl')\n",
    "\n",
    "\n",
    "\n"
   ]
  },
  {
   "cell_type": "code",
   "execution_count": 13,
   "metadata": {},
   "outputs": [
    {
     "name": "stdout",
     "output_type": "stream",
     "text": [
      "[2024-02-25 13:38:10,541: INFO: common: yaml file: config/config.yaml loaded successfully]\n",
      "[2024-02-25 13:38:10,542: INFO: common: yaml file: params.yaml loaded successfully]\n",
      "[2024-02-25 13:38:10,542: INFO: common: created directory at: artifacts]\n",
      "{'root_dir': 'artifacts/prepare_base_model', 'base_model_path': 'artifacts/prepare_base_model/base_model.pkl', 'updated_base_model_path': 'artifacts/prepare_base_model/base_model_updated.pkl'}\n",
      "[2024-02-25 13:38:10,543: INFO: common: created directory at: artifacts/prepare_base_model]\n"
     ]
    }
   ],
   "source": [
    "try:\n",
    "    config = ConfigurationManager()\n",
    "    prepare_base_model_config = config.get_prepare_base_model_config()\n",
    "    prepare_base_model = PrepareBaseModel(config=prepare_base_model_config)\n",
    "    prepare_base_model.get_base_model()\n",
    "except Exception as e:\n",
    "    raise e"
   ]
  },
  {
   "cell_type": "code",
   "execution_count": null,
   "metadata": {},
   "outputs": [],
   "source": []
  },
  {
   "cell_type": "code",
   "execution_count": null,
   "metadata": {},
   "outputs": [],
   "source": []
  },
  {
   "cell_type": "code",
   "execution_count": null,
   "metadata": {},
   "outputs": [],
   "source": []
  },
  {
   "cell_type": "code",
   "execution_count": null,
   "metadata": {},
   "outputs": [],
   "source": []
  },
  {
   "cell_type": "code",
   "execution_count": null,
   "metadata": {},
   "outputs": [],
   "source": []
  }
 ],
 "metadata": {
  "kernelspec": {
   "display_name": "ollama",
   "language": "python",
   "name": "python3"
  },
  "language_info": {
   "codemirror_mode": {
    "name": "ipython",
    "version": 3
   },
   "file_extension": ".py",
   "mimetype": "text/x-python",
   "name": "python",
   "nbconvert_exporter": "python",
   "pygments_lexer": "ipython3",
   "version": "3.11.7"
  }
 },
 "nbformat": 4,
 "nbformat_minor": 2
}
