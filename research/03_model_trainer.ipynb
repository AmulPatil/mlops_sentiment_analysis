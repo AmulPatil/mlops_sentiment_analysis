{
 "cells": [
  {
   "cell_type": "code",
   "execution_count": 1,
   "metadata": {},
   "outputs": [],
   "source": [
    "import os"
   ]
  },
  {
   "cell_type": "code",
   "execution_count": 2,
   "metadata": {},
   "outputs": [
    {
     "data": {
      "text/plain": [
       "'/home/amul/Desktop/projects/nlp_usecases/mlops_sentiment_analysis/research'"
      ]
     },
     "execution_count": 2,
     "metadata": {},
     "output_type": "execute_result"
    }
   ],
   "source": [
    "%pwd"
   ]
  },
  {
   "cell_type": "code",
   "execution_count": 3,
   "metadata": {},
   "outputs": [],
   "source": [
    "os.chdir(\"../\")"
   ]
  },
  {
   "cell_type": "code",
   "execution_count": 4,
   "metadata": {},
   "outputs": [
    {
     "data": {
      "text/plain": [
       "'/home/amul/Desktop/projects/nlp_usecases/mlops_sentiment_analysis'"
      ]
     },
     "execution_count": 4,
     "metadata": {},
     "output_type": "execute_result"
    }
   ],
   "source": [
    "%pwd"
   ]
  },
  {
   "cell_type": "code",
   "execution_count": 5,
   "metadata": {},
   "outputs": [],
   "source": [
    "from dataclasses import dataclass\n",
    "from pathlib import Path\n",
    "\n",
    "\n",
    "@dataclass(frozen=True)\n",
    "class TrainingConfig:\n",
    "    root_dir: Path\n",
    "    base_model_path: Path\n",
    "    trained_model_path: Path\n",
    "    updated_base_model_path: Path\n",
    "    training_data: Path\n",
    "    params_c: int"
   ]
  },
  {
   "cell_type": "code",
   "execution_count": 6,
   "metadata": {},
   "outputs": [],
   "source": [
    "from src.sentiment_analysis.constants import *\n",
    "from src.sentiment_analysis.utils.common import read_yaml, create_directories\n",
    "# import tensorflow as tf"
   ]
  },
  {
   "cell_type": "code",
   "execution_count": 7,
   "metadata": {},
   "outputs": [],
   "source": [
    "class ConfigurationManager:\n",
    "    def __init__(\n",
    "        self,\n",
    "        config_filepath = CONFIG_FILE_PATH,\n",
    "        params_filepath = PARAMS_FILE_PATH):\n",
    "\n",
    "        self.config = read_yaml(config_filepath)\n",
    "        self.params = read_yaml(params_filepath)\n",
    "\n",
    "        create_directories([self.config.artifacts_root])\n",
    "\n",
    "        \n",
    "\n",
    "    def get_training_config(self) -> TrainingConfig:\n",
    "        training = self.config.training\n",
    "        prepare_base_model = self.config.prepare_base_model\n",
    "        params = self.params\n",
    "        training_data = self.config.data_cleaning.data_non_transformer\n",
    "        create_directories([\n",
    "            Path(training.root_dir)\n",
    "        ])\n",
    "     \n",
    "        training_config = TrainingConfig(\n",
    "            root_dir=Path(training.root_dir),\n",
    "            base_model_path = Path(training.base_model_path),\n",
    "            trained_model_path=Path(training.trained_model_path),\n",
    "            updated_base_model_path=Path(prepare_base_model.updated_base_model_path),\n",
    "            training_data=Path(training_data),\n",
    "            params_c=params.C,\n",
    "            \n",
    "        )\n",
    "\n",
    "        return training_config"
   ]
  },
  {
   "cell_type": "code",
   "execution_count": null,
   "metadata": {},
   "outputs": [],
   "source": []
  },
  {
   "cell_type": "code",
   "execution_count": 8,
   "metadata": {},
   "outputs": [],
   "source": [
    "import os\n",
    "import urllib.request as request\n",
    "from zipfile import ZipFile\n",
    "import joblib\n",
    "import time\n",
    "import pandas as pd\n",
    "from sklearn.base import BaseEstimator\n",
    "from sklearn.feature_extraction.text import CountVectorizer\n",
    "from sklearn.svm import LinearSVC\n",
    "from sklearn.pipeline import Pipeline\n",
    "from sklearn.metrics import accuracy_score\n",
    "from src.sentiment_analysis.entity.config_entity import TrainingConfig\n",
    "from pathlib import Path\n",
    "from sklearn.model_selection import train_test_split\n"
   ]
  },
  {
   "cell_type": "code",
   "execution_count": 11,
   "metadata": {},
   "outputs": [],
   "source": [
    "class Training:\n",
    "    def __init__(self, config: TrainingConfig):\n",
    "        self.config = config\n",
    "        print(config)\n",
    "    \n",
    "    def get_base_model(self):\n",
    "        self.model = joblib.load(self.config.base_model_path)\n",
    "    \n",
    "    \n",
    "    @staticmethod\n",
    "    def save_model(path: Path, model: BaseEstimator):\n",
    "        joblib.dump(model, path)\n",
    "\n",
    "    def train(self):\n",
    "        training_path = str(Path(self.config.training_data))\n",
    "        df_train = pd.read_csv(training_path+'/train.csv')\n",
    "\n",
    "        # df_train = pd.read_csv(self.config.training_data+'/train.csv')\n",
    "        \n",
    "        self.model.fit(df_train['text'], df_train['label'])\n",
    "        self.save_model(\n",
    "            path=self.config.trained_model_path,\n",
    "            model=self.model\n",
    "        )\n",
    "        # # Load the pipeline from the pickle file\n",
    "        # loaded_pipeline = joblib.load(self.config.base_model_path)\n",
    "\n",
    "        # # Predict and evaluate on the test data using the loaded pipeline\n",
    "        # predictions = loaded_pipeline.predict(reviews_test)\n",
    "        # accuracy = accuracy_score(labels_test, predictions)\n",
    "\n",
    "        # print(f\"Accuracy on Unseen dataset using the loaded pipeline: {accuracy}\")\n"
   ]
  },
  {
   "cell_type": "code",
   "execution_count": 12,
   "metadata": {},
   "outputs": [
    {
     "name": "stdout",
     "output_type": "stream",
     "text": [
      "[2024-02-25 14:54:47,914: INFO: common: yaml file: config/config.yaml loaded successfully]\n",
      "[2024-02-25 14:54:47,915: INFO: common: yaml file: params.yaml loaded successfully]\n",
      "[2024-02-25 14:54:47,915: INFO: common: created directory at: artifacts]\n",
      "[2024-02-25 14:54:47,916: INFO: common: created directory at: artifacts/training]\n",
      "TrainingConfig(root_dir=PosixPath('artifacts/training'), base_model_path=PosixPath('artifacts/prepare_base_model/base_model.pkl'), trained_model_path=PosixPath('artifacts/training/model.pkl'), updated_base_model_path=PosixPath('artifacts/prepare_base_model/base_model_updated.pkl'), training_data=PosixPath('artifacts/data_cleaning/basic_ml'), params_c=0.05)\n"
     ]
    }
   ],
   "source": [
    "\n",
    "config = ConfigurationManager()\n",
    "training_config = config.get_training_config()\n",
    "training = Training(config=training_config)\n",
    "training.get_base_model()\n",
    "# training.train_valid_generator()\n",
    "training.train()\n"
   ]
  },
  {
   "cell_type": "code",
   "execution_count": null,
   "metadata": {},
   "outputs": [],
   "source": []
  },
  {
   "cell_type": "code",
   "execution_count": null,
   "metadata": {},
   "outputs": [],
   "source": [
    "try:\n",
    "    config = ConfigurationManager()\n",
    "    training_config = config.get_training_config()\n",
    "    training = Training(config=training_config)\n",
    "    training.get_base_model()\n",
    "    # training.train_valid_generator()\n",
    "    training.train()\n",
    "    \n",
    "except Exception as e:\n",
    "    raise e"
   ]
  },
  {
   "cell_type": "code",
   "execution_count": null,
   "metadata": {},
   "outputs": [],
   "source": []
  }
 ],
 "metadata": {
  "kernelspec": {
   "display_name": "chest",
   "language": "python",
   "name": "python3"
  },
  "language_info": {
   "codemirror_mode": {
    "name": "ipython",
    "version": 3
   },
   "file_extension": ".py",
   "mimetype": "text/x-python",
   "name": "python",
   "nbconvert_exporter": "python",
   "pygments_lexer": "ipython3",
   "version": "3.11.7"
  }
 },
 "nbformat": 4,
 "nbformat_minor": 2
}
